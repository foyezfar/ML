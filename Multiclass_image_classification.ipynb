{
  "cells": [
    {
      "cell_type": "markdown",
      "metadata": {
        "id": "view-in-github",
        "colab_type": "text"
      },
      "source": [
        "<a href=\"https://colab.research.google.com/github/foyezfar/ML/blob/main/Multiclass_image_classification.ipynb\" target=\"_parent\"><img src=\"https://colab.research.google.com/assets/colab-badge.svg\" alt=\"Open In Colab\"/></a>"
      ]
    },
    {
      "cell_type": "code",
      "execution_count": 1,
      "metadata": {
        "id": "MQ9ZtBc7VBFc"
      },
      "outputs": [],
      "source": [
        "import zipfile\n",
        "import os\n",
        "import shutil\n",
        "import glob"
      ]
    },
    {
      "cell_type": "code",
      "execution_count": 2,
      "metadata": {
        "colab": {
          "base_uri": "https://localhost:8080/"
        },
        "id": "w38JecqmVEQj",
        "outputId": "5d0686b6-bf91-487d-b635-c95c03735cd9"
      },
      "outputs": [
        {
          "output_type": "stream",
          "name": "stdout",
          "text": [
            "Drive already mounted at /content/drive; to attempt to forcibly remount, call drive.mount(\"/content/drive\", force_remount=True).\n"
          ]
        }
      ],
      "source": [
        "from google.colab import drive\n",
        "drive.mount('/content/drive')"
      ]
    },
    {
      "cell_type": "code",
      "execution_count": 3,
      "metadata": {
        "id": "jmMDvVqxXQ7S"
      },
      "outputs": [],
      "source": [
        "Zip_ref = zipfile.ZipFile(\"/content/drive/MyDrive/Data.zip\",\"r\")\n",
        "Zip_ref.extractall(\"/tmp\")\n",
        "Zip_ref.close()"
      ]
    },
    {
      "cell_type": "code",
      "execution_count": 4,
      "metadata": {
        "id": "gexLmNnIUn9e"
      },
      "outputs": [],
      "source": [
        "base_dir =\"/tmp/Data/train\""
      ]
    },
    {
      "cell_type": "code",
      "execution_count": 5,
      "metadata": {
        "colab": {
          "base_uri": "https://localhost:8080/"
        },
        "id": "zBJC3bvkUzW1",
        "outputId": "34714e01-7a49-4415-87e0-9aa7d2dd2f63"
      },
      "outputs": [
        {
          "output_type": "stream",
          "name": "stdout",
          "text": [
            "['CROW', 'PEACOCK', 'EMU', 'OSTRICH', 'WOOD DUCK', 'COCKATOO']\n"
          ]
        }
      ],
      "source": [
        "import os\n",
        "print(os.listdir(\"/tmp/Data/train\"))"
      ]
    },
    {
      "cell_type": "code",
      "execution_count": 6,
      "metadata": {
        "id": "3Z0Ph2B2otVN"
      },
      "outputs": [],
      "source": [
        "import numpy as np\n",
        "import cv2\n",
        "import random as rn\n",
        "from tqdm import tqdm\n",
        "import matplotlib.pyplot as plt\n",
        "import tensorflow as tf\n",
        "from tensorflow import keras\n",
        "from tensorflow.python.keras.layers import Dense\n"
      ]
    },
    {
      "cell_type": "code",
      "execution_count": 7,
      "metadata": {
        "colab": {
          "base_uri": "https://localhost:8080/"
        },
        "id": "_n7-NewsXfjz",
        "outputId": "62bbcf84-bc76-48a1-d969-b5c307c19525"
      },
      "outputs": [
        {
          "output_type": "stream",
          "name": "stdout",
          "text": [
            "Found 923 images belonging to 6 classes.\n",
            "Found 100 images belonging to 6 classes.\n"
          ]
        }
      ],
      "source": [
        "IMAGE_SIZE=224\n",
        "BATCH_SIZE=32\n",
        "\n",
        "#pre=processing\n",
        "train_datagen=tf.keras.preprocessing.image.ImageDataGenerator(\n",
        "    rescale=1./255,\n",
        "    shear_range=0.2,\n",
        "    zoom_range=0.2,\n",
        "    horizontal_flip=True,\n",
        "    validation_split=0.1\n",
        "    )\n",
        "\n",
        "test_datagen=tf.keras.preprocessing.image.ImageDataGenerator(\n",
        "     rescale=1./255,\n",
        "     validation_split=0.1\n",
        ")\n",
        "\n",
        "train_datagen=train_datagen.flow_from_directory(\n",
        "    base_dir,\n",
        "    target_size=(IMAGE_SIZE,IMAGE_SIZE),\n",
        "    batch_size=BATCH_SIZE,\n",
        "    subset='training'\n",
        ")\n",
        "\n",
        "test_datagen=test_datagen.flow_from_directory(\n",
        "    base_dir,\n",
        "    target_size=(IMAGE_SIZE,IMAGE_SIZE),\n",
        "    batch_size=BATCH_SIZE,\n",
        "    subset='validation'\n",
        ")"
      ]
    },
    {
      "cell_type": "code",
      "execution_count": 8,
      "metadata": {
        "id": "783U4QVEXr9i"
      },
      "outputs": [],
      "source": [
        "cnn=tf.keras.Sequential()\n",
        "cnn.add(tf.keras.layers.Conv2D(filters=64,padding='same',strides=2,kernel_size=3,activation='relu',input_shape=(224,224,3)))\n",
        "cnn.add(tf.keras.layers.MaxPool2D(pool_size=2,strides=2))\n",
        "\n",
        "cnn.add(tf.keras.layers.Conv2D(filters=32,padding='same',strides=2,kernel_size=3,activation='relu'))\n",
        "cnn.add(tf.keras.layers.MaxPool2D(pool_size=2,strides=2))\n",
        "\n",
        "cnn.add(tf.keras.layers.Conv2D(filters=32,padding='same',strides=2,kernel_size=3,activation='relu'))\n",
        "cnn.add(tf.keras.layers.MaxPool2D(pool_size=2))\n",
        "\n",
        "cnn.add(tf.keras.layers.Flatten())\n",
        "cnn.add(tf.keras.layers.Dense(6,activation='softmax'))"
      ]
    },
    {
      "cell_type": "code",
      "source": [
        "cnn.summary()"
      ],
      "metadata": {
        "colab": {
          "base_uri": "https://localhost:8080/"
        },
        "id": "B421NqOoijCJ",
        "outputId": "212979ea-223e-4b20-8867-c75b5268b6af"
      },
      "execution_count": 15,
      "outputs": [
        {
          "output_type": "stream",
          "name": "stdout",
          "text": [
            "Model: \"sequential\"\n",
            "_________________________________________________________________\n",
            " Layer (type)                Output Shape              Param #   \n",
            "=================================================================\n",
            " conv2d (Conv2D)             (None, 112, 112, 64)      1792      \n",
            "                                                                 \n",
            " max_pooling2d (MaxPooling2D  (None, 56, 56, 64)       0         \n",
            " )                                                               \n",
            "                                                                 \n",
            " conv2d_1 (Conv2D)           (None, 28, 28, 32)        18464     \n",
            "                                                                 \n",
            " max_pooling2d_1 (MaxPooling  (None, 14, 14, 32)       0         \n",
            " 2D)                                                             \n",
            "                                                                 \n",
            " conv2d_2 (Conv2D)           (None, 7, 7, 32)          9248      \n",
            "                                                                 \n",
            " max_pooling2d_2 (MaxPooling  (None, 3, 3, 32)         0         \n",
            " 2D)                                                             \n",
            "                                                                 \n",
            " flatten (Flatten)           (None, 288)               0         \n",
            "                                                                 \n",
            " dense (Dense)               (None, 6)                 1734      \n",
            "                                                                 \n",
            "=================================================================\n",
            "Total params: 31,238\n",
            "Trainable params: 31,238\n",
            "Non-trainable params: 0\n",
            "_________________________________________________________________\n"
          ]
        }
      ]
    },
    {
      "cell_type": "code",
      "execution_count": 10,
      "metadata": {
        "id": "blhX_9yPXwr6"
      },
      "outputs": [],
      "source": [
        "cnn.compile(optimizer=tf.keras.optimizers.Adam(),loss='categorical_crossentropy',metrics=['accuracy'])"
      ]
    },
    {
      "cell_type": "code",
      "execution_count": null,
      "metadata": {
        "colab": {
          "base_uri": "https://localhost:8080/"
        },
        "id": "7uEbDK0SjwUf",
        "outputId": "d5f19881-c329-4bf5-d57b-0fc1c7dd7fad"
      },
      "outputs": [
        {
          "output_type": "stream",
          "name": "stdout",
          "text": [
            "Epoch 1/100\n",
            "29/29 [==============================] - 26s 854ms/step - loss: 1.7328 - accuracy: 0.2535 - val_loss: 1.5986 - val_accuracy: 0.2600\n",
            "Epoch 2/100\n",
            "29/29 [==============================] - 25s 847ms/step - loss: 1.4030 - accuracy: 0.5016 - val_loss: 1.0748 - val_accuracy: 0.7000\n",
            "Epoch 3/100\n",
            "29/29 [==============================] - 25s 850ms/step - loss: 0.9385 - accuracy: 0.6977 - val_loss: 0.9851 - val_accuracy: 0.6900\n",
            "Epoch 4/100\n",
            "29/29 [==============================] - 25s 848ms/step - loss: 0.7642 - accuracy: 0.7356 - val_loss: 0.8106 - val_accuracy: 0.7000\n",
            "Epoch 5/100\n",
            "29/29 [==============================] - 25s 849ms/step - loss: 0.6802 - accuracy: 0.7606 - val_loss: 0.7712 - val_accuracy: 0.7500\n",
            "Epoch 6/100\n",
            "29/29 [==============================] - 25s 846ms/step - loss: 0.6480 - accuracy: 0.7627 - val_loss: 0.7434 - val_accuracy: 0.7700\n",
            "Epoch 7/100\n",
            "29/29 [==============================] - 25s 848ms/step - loss: 0.5522 - accuracy: 0.8169 - val_loss: 0.6843 - val_accuracy: 0.7800\n",
            "Epoch 8/100\n",
            "29/29 [==============================] - 25s 845ms/step - loss: 0.5126 - accuracy: 0.8234 - val_loss: 0.6646 - val_accuracy: 0.8400\n",
            "Epoch 9/100\n",
            "29/29 [==============================] - 25s 851ms/step - loss: 0.5001 - accuracy: 0.8277 - val_loss: 0.7382 - val_accuracy: 0.7400\n",
            "Epoch 10/100\n",
            "29/29 [==============================] - 27s 912ms/step - loss: 0.4945 - accuracy: 0.8234 - val_loss: 0.6319 - val_accuracy: 0.8100\n",
            "Epoch 11/100\n",
            "29/29 [==============================] - 25s 855ms/step - loss: 0.4448 - accuracy: 0.8418 - val_loss: 0.5630 - val_accuracy: 0.8200\n",
            "Epoch 12/100\n",
            "29/29 [==============================] - 25s 849ms/step - loss: 0.4527 - accuracy: 0.8364 - val_loss: 0.6226 - val_accuracy: 0.7900\n",
            "Epoch 13/100\n",
            "29/29 [==============================] - 25s 847ms/step - loss: 0.4410 - accuracy: 0.8429 - val_loss: 0.5394 - val_accuracy: 0.8300\n",
            "Epoch 14/100\n",
            "29/29 [==============================] - 25s 852ms/step - loss: 0.3804 - accuracy: 0.8592 - val_loss: 0.5031 - val_accuracy: 0.8300\n",
            "Epoch 15/100\n",
            "29/29 [==============================] - 25s 850ms/step - loss: 0.3827 - accuracy: 0.8657 - val_loss: 0.5993 - val_accuracy: 0.7900\n",
            "Epoch 16/100\n",
            "29/29 [==============================] - 25s 845ms/step - loss: 0.3592 - accuracy: 0.8754 - val_loss: 0.5383 - val_accuracy: 0.8600\n",
            "Epoch 17/100\n",
            "29/29 [==============================] - 25s 848ms/step - loss: 0.3535 - accuracy: 0.8722 - val_loss: 0.5147 - val_accuracy: 0.8400\n",
            "Epoch 18/100\n",
            "29/29 [==============================] - 25s 844ms/step - loss: 0.3343 - accuracy: 0.8819 - val_loss: 0.5188 - val_accuracy: 0.8500\n",
            "Epoch 19/100\n",
            "29/29 [==============================] - 25s 838ms/step - loss: 0.3144 - accuracy: 0.8797 - val_loss: 0.5532 - val_accuracy: 0.8500\n",
            "Epoch 20/100\n",
            "29/29 [==============================] - 25s 842ms/step - loss: 0.3127 - accuracy: 0.8938 - val_loss: 0.4751 - val_accuracy: 0.8400\n",
            "Epoch 21/100\n",
            "29/29 [==============================] - 25s 844ms/step - loss: 0.2732 - accuracy: 0.9079 - val_loss: 0.6019 - val_accuracy: 0.8200\n",
            "Epoch 22/100\n",
            "29/29 [==============================] - 25s 844ms/step - loss: 0.3423 - accuracy: 0.8700 - val_loss: 0.4909 - val_accuracy: 0.8800\n",
            "Epoch 23/100\n",
            "29/29 [==============================] - 25s 846ms/step - loss: 0.2927 - accuracy: 0.8841 - val_loss: 0.4298 - val_accuracy: 0.8700\n",
            "Epoch 24/100\n",
            "29/29 [==============================] - 25s 847ms/step - loss: 0.2749 - accuracy: 0.8971 - val_loss: 0.4001 - val_accuracy: 0.8800\n",
            "Epoch 25/100\n",
            "29/29 [==============================] - 25s 847ms/step - loss: 0.2677 - accuracy: 0.9014 - val_loss: 0.4159 - val_accuracy: 0.8600\n",
            "Epoch 26/100\n",
            "29/29 [==============================] - 25s 844ms/step - loss: 0.2644 - accuracy: 0.9036 - val_loss: 0.4211 - val_accuracy: 0.8800\n",
            "Epoch 27/100\n",
            "29/29 [==============================] - 25s 848ms/step - loss: 0.2886 - accuracy: 0.8852 - val_loss: 0.3873 - val_accuracy: 0.8700\n",
            "Epoch 28/100\n",
            "29/29 [==============================] - 25s 843ms/step - loss: 0.2396 - accuracy: 0.9155 - val_loss: 0.4083 - val_accuracy: 0.9000\n",
            "Epoch 29/100\n",
            "29/29 [==============================] - 25s 845ms/step - loss: 0.2201 - accuracy: 0.9177 - val_loss: 0.3940 - val_accuracy: 0.8600\n",
            "Epoch 30/100\n",
            "29/29 [==============================] - 25s 838ms/step - loss: 0.2636 - accuracy: 0.9047 - val_loss: 0.3763 - val_accuracy: 0.8700\n",
            "Epoch 31/100\n",
            "29/29 [==============================] - 25s 856ms/step - loss: 0.2170 - accuracy: 0.9242 - val_loss: 0.3497 - val_accuracy: 0.8700\n",
            "Epoch 32/100\n",
            "29/29 [==============================] - 25s 858ms/step - loss: 0.2138 - accuracy: 0.9231 - val_loss: 0.3733 - val_accuracy: 0.8500\n",
            "Epoch 33/100\n",
            "29/29 [==============================] - 25s 857ms/step - loss: 0.2387 - accuracy: 0.9155 - val_loss: 0.3801 - val_accuracy: 0.8700\n",
            "Epoch 34/100\n",
            "29/29 [==============================] - 25s 856ms/step - loss: 0.2280 - accuracy: 0.9166 - val_loss: 0.3314 - val_accuracy: 0.8900\n",
            "Epoch 35/100\n",
            "29/29 [==============================] - 25s 856ms/step - loss: 0.2099 - accuracy: 0.9209 - val_loss: 0.3391 - val_accuracy: 0.8900\n",
            "Epoch 36/100\n",
            "29/29 [==============================] - 25s 848ms/step - loss: 0.1773 - accuracy: 0.9350 - val_loss: 0.3612 - val_accuracy: 0.8800\n",
            "Epoch 37/100\n",
            "29/29 [==============================] - 25s 852ms/step - loss: 0.1887 - accuracy: 0.9307 - val_loss: 0.3252 - val_accuracy: 0.8900\n",
            "Epoch 38/100\n",
            "29/29 [==============================] - 25s 852ms/step - loss: 0.1873 - accuracy: 0.9328 - val_loss: 0.3743 - val_accuracy: 0.9000\n",
            "Epoch 39/100\n",
            "29/29 [==============================] - 25s 855ms/step - loss: 0.1769 - accuracy: 0.9372 - val_loss: 0.4068 - val_accuracy: 0.9000\n",
            "Epoch 40/100\n",
            "29/29 [==============================] - 25s 856ms/step - loss: 0.2287 - accuracy: 0.9090 - val_loss: 0.4369 - val_accuracy: 0.8800\n",
            "Epoch 41/100\n",
            "29/29 [==============================] - 25s 855ms/step - loss: 0.1861 - accuracy: 0.9296 - val_loss: 0.3029 - val_accuracy: 0.9200\n",
            "Epoch 42/100\n",
            "29/29 [==============================] - 25s 856ms/step - loss: 0.1543 - accuracy: 0.9458 - val_loss: 0.3197 - val_accuracy: 0.9100\n",
            "Epoch 43/100\n",
            "29/29 [==============================] - 25s 857ms/step - loss: 0.1541 - accuracy: 0.9469 - val_loss: 0.3128 - val_accuracy: 0.8800\n",
            "Epoch 44/100\n",
            "29/29 [==============================] - 25s 854ms/step - loss: 0.1518 - accuracy: 0.9458 - val_loss: 0.4508 - val_accuracy: 0.8700\n",
            "Epoch 45/100\n",
            "29/29 [==============================] - 25s 850ms/step - loss: 0.2045 - accuracy: 0.9220 - val_loss: 0.3366 - val_accuracy: 0.9100\n",
            "Epoch 46/100\n",
            "29/29 [==============================] - 25s 852ms/step - loss: 0.1641 - accuracy: 0.9447 - val_loss: 0.3861 - val_accuracy: 0.8900\n",
            "Epoch 47/100\n",
            "29/29 [==============================] - 25s 856ms/step - loss: 0.1484 - accuracy: 0.9404 - val_loss: 0.3647 - val_accuracy: 0.9000\n",
            "Epoch 48/100\n",
            "29/29 [==============================] - 25s 865ms/step - loss: 0.1881 - accuracy: 0.9285 - val_loss: 0.3399 - val_accuracy: 0.9000\n",
            "Epoch 49/100\n",
            "29/29 [==============================] - 25s 854ms/step - loss: 0.1496 - accuracy: 0.9426 - val_loss: 0.3299 - val_accuracy: 0.9100\n",
            "Epoch 50/100\n",
            "29/29 [==============================] - 25s 859ms/step - loss: 0.1356 - accuracy: 0.9469 - val_loss: 0.3915 - val_accuracy: 0.8800\n",
            "Epoch 51/100\n",
            "29/29 [==============================] - 25s 859ms/step - loss: 0.1292 - accuracy: 0.9556 - val_loss: 0.3279 - val_accuracy: 0.8700\n",
            "Epoch 52/100\n",
            "29/29 [==============================] - 25s 856ms/step - loss: 0.1489 - accuracy: 0.9480 - val_loss: 0.3400 - val_accuracy: 0.9000\n",
            "Epoch 53/100\n",
            "29/29 [==============================] - 25s 853ms/step - loss: 0.1422 - accuracy: 0.9480 - val_loss: 0.3184 - val_accuracy: 0.9200\n",
            "Epoch 54/100\n",
            "29/29 [==============================] - 25s 851ms/step - loss: 0.1536 - accuracy: 0.9545 - val_loss: 0.3503 - val_accuracy: 0.9200\n",
            "Epoch 55/100\n",
            "29/29 [==============================] - 25s 854ms/step - loss: 0.1423 - accuracy: 0.9469 - val_loss: 0.4181 - val_accuracy: 0.9000\n",
            "Epoch 56/100\n",
            "29/29 [==============================] - 25s 861ms/step - loss: 0.1178 - accuracy: 0.9599 - val_loss: 0.3906 - val_accuracy: 0.9000\n",
            "Epoch 57/100\n",
            "29/29 [==============================] - 25s 857ms/step - loss: 0.1109 - accuracy: 0.9599 - val_loss: 0.3693 - val_accuracy: 0.9000\n",
            "Epoch 58/100\n",
            "29/29 [==============================] - 25s 855ms/step - loss: 0.1252 - accuracy: 0.9545 - val_loss: 0.3319 - val_accuracy: 0.9000\n",
            "Epoch 59/100\n",
            "29/29 [==============================] - 25s 856ms/step - loss: 0.1290 - accuracy: 0.9458 - val_loss: 0.3545 - val_accuracy: 0.9100\n",
            "Epoch 60/100\n",
            "29/29 [==============================] - 25s 856ms/step - loss: 0.1324 - accuracy: 0.9502 - val_loss: 0.3636 - val_accuracy: 0.9100\n",
            "Epoch 61/100\n",
            "29/29 [==============================] - 25s 855ms/step - loss: 0.1061 - accuracy: 0.9610 - val_loss: 0.3451 - val_accuracy: 0.9100\n",
            "Epoch 62/100\n",
            "29/29 [==============================] - 25s 859ms/step - loss: 0.0894 - accuracy: 0.9707 - val_loss: 0.3743 - val_accuracy: 0.9000\n",
            "Epoch 63/100\n",
            "29/29 [==============================] - 25s 853ms/step - loss: 0.1390 - accuracy: 0.9458 - val_loss: 0.4201 - val_accuracy: 0.8900\n",
            "Epoch 64/100\n",
            "29/29 [==============================] - 25s 855ms/step - loss: 0.0986 - accuracy: 0.9686 - val_loss: 0.3968 - val_accuracy: 0.9100\n",
            "Epoch 65/100\n",
            "29/29 [==============================] - 25s 853ms/step - loss: 0.1068 - accuracy: 0.9599 - val_loss: 0.3597 - val_accuracy: 0.9000\n",
            "Epoch 66/100\n",
            "29/29 [==============================] - 25s 848ms/step - loss: 0.1204 - accuracy: 0.9502 - val_loss: 0.3285 - val_accuracy: 0.9200\n",
            "Epoch 67/100\n",
            "29/29 [==============================] - 25s 849ms/step - loss: 0.1143 - accuracy: 0.9512 - val_loss: 0.3748 - val_accuracy: 0.9100\n",
            "Epoch 68/100\n",
            "29/29 [==============================] - 25s 852ms/step - loss: 0.0844 - accuracy: 0.9664 - val_loss: 0.4164 - val_accuracy: 0.9000\n",
            "Epoch 69/100\n",
            "29/29 [==============================] - 25s 851ms/step - loss: 0.1321 - accuracy: 0.9458 - val_loss: 0.4450 - val_accuracy: 0.8800\n",
            "Epoch 70/100\n",
            "29/29 [==============================] - 25s 851ms/step - loss: 0.1371 - accuracy: 0.9437 - val_loss: 0.3158 - val_accuracy: 0.9300\n",
            "Epoch 71/100\n",
            "29/29 [==============================] - 25s 854ms/step - loss: 0.1027 - accuracy: 0.9621 - val_loss: 0.3139 - val_accuracy: 0.9400\n",
            "Epoch 72/100\n",
            "29/29 [==============================] - 25s 852ms/step - loss: 0.1165 - accuracy: 0.9610 - val_loss: 0.4248 - val_accuracy: 0.8800\n",
            "Epoch 73/100\n",
            "29/29 [==============================] - 25s 851ms/step - loss: 0.1006 - accuracy: 0.9642 - val_loss: 0.3239 - val_accuracy: 0.9100\n",
            "Epoch 74/100\n",
            "29/29 [==============================] - 25s 844ms/step - loss: 0.1162 - accuracy: 0.9556 - val_loss: 0.3788 - val_accuracy: 0.8900\n",
            "Epoch 75/100\n",
            "29/29 [==============================] - 25s 846ms/step - loss: 0.1009 - accuracy: 0.9610 - val_loss: 0.3856 - val_accuracy: 0.9000\n",
            "Epoch 76/100\n",
            "29/29 [==============================] - 25s 849ms/step - loss: 0.0900 - accuracy: 0.9740 - val_loss: 0.3406 - val_accuracy: 0.9300\n",
            "Epoch 77/100\n",
            "29/29 [==============================] - 25s 845ms/step - loss: 0.0662 - accuracy: 0.9794 - val_loss: 0.3723 - val_accuracy: 0.9300\n",
            "Epoch 78/100\n",
            "29/29 [==============================] - 25s 842ms/step - loss: 0.0985 - accuracy: 0.9599 - val_loss: 0.5100 - val_accuracy: 0.9000\n",
            "Epoch 79/100\n",
            "29/29 [==============================] - 25s 847ms/step - loss: 0.1015 - accuracy: 0.9642 - val_loss: 0.3458 - val_accuracy: 0.9300\n",
            "Epoch 80/100\n",
            "29/29 [==============================] - 25s 850ms/step - loss: 0.0844 - accuracy: 0.9664 - val_loss: 0.3712 - val_accuracy: 0.9200\n",
            "Epoch 81/100\n",
            "29/29 [==============================] - 25s 849ms/step - loss: 0.0607 - accuracy: 0.9805 - val_loss: 0.3425 - val_accuracy: 0.9300\n",
            "Epoch 82/100\n",
            "29/29 [==============================] - 25s 849ms/step - loss: 0.0658 - accuracy: 0.9827 - val_loss: 0.4189 - val_accuracy: 0.9000\n",
            "Epoch 83/100\n",
            "29/29 [==============================] - 25s 842ms/step - loss: 0.0829 - accuracy: 0.9697 - val_loss: 0.3742 - val_accuracy: 0.9200\n",
            "Epoch 84/100\n",
            "29/29 [==============================] - 25s 847ms/step - loss: 0.0674 - accuracy: 0.9740 - val_loss: 0.3263 - val_accuracy: 0.9300\n",
            "Epoch 85/100\n",
            "29/29 [==============================] - 25s 838ms/step - loss: 0.0726 - accuracy: 0.9783 - val_loss: 0.3840 - val_accuracy: 0.9000\n",
            "Epoch 86/100\n",
            "29/29 [==============================] - 25s 843ms/step - loss: 0.0485 - accuracy: 0.9859 - val_loss: 0.3390 - val_accuracy: 0.9400\n",
            "Epoch 87/100\n",
            "29/29 [==============================] - 25s 847ms/step - loss: 0.0683 - accuracy: 0.9805 - val_loss: 0.4097 - val_accuracy: 0.9200\n",
            "Epoch 88/100\n",
            "29/29 [==============================] - 25s 846ms/step - loss: 0.0775 - accuracy: 0.9751 - val_loss: 0.3792 - val_accuracy: 0.9100\n",
            "Epoch 89/100\n",
            "29/29 [==============================] - 25s 852ms/step - loss: 0.0917 - accuracy: 0.9707 - val_loss: 0.3937 - val_accuracy: 0.9200\n",
            "Epoch 90/100\n",
            "29/29 [==============================] - 25s 849ms/step - loss: 0.0472 - accuracy: 0.9892 - val_loss: 0.3919 - val_accuracy: 0.9100\n",
            "Epoch 91/100\n",
            "29/29 [==============================] - 25s 851ms/step - loss: 0.0545 - accuracy: 0.9805 - val_loss: 0.3892 - val_accuracy: 0.9200\n",
            "Epoch 92/100\n",
            "29/29 [==============================] - 25s 852ms/step - loss: 0.0472 - accuracy: 0.9783 - val_loss: 0.4407 - val_accuracy: 0.9200\n",
            "Epoch 93/100\n",
            "29/29 [==============================] - 25s 848ms/step - loss: 0.0523 - accuracy: 0.9870 - val_loss: 0.4901 - val_accuracy: 0.9100\n",
            "Epoch 94/100\n",
            "29/29 [==============================] - 25s 848ms/step - loss: 0.0584 - accuracy: 0.9762 - val_loss: 0.3335 - val_accuracy: 0.9300\n",
            "Epoch 95/100\n",
            "29/29 [==============================] - 25s 846ms/step - loss: 0.0492 - accuracy: 0.9827 - val_loss: 0.4444 - val_accuracy: 0.9200\n",
            "Epoch 96/100\n",
            "29/29 [==============================] - 25s 844ms/step - loss: 0.0701 - accuracy: 0.9772 - val_loss: 0.4057 - val_accuracy: 0.9400\n",
            "Epoch 97/100\n",
            "29/29 [==============================] - 25s 844ms/step - loss: 0.0676 - accuracy: 0.9783 - val_loss: 0.4215 - val_accuracy: 0.9300\n",
            "Epoch 98/100\n",
            "29/29 [==============================] - 25s 853ms/step - loss: 0.0466 - accuracy: 0.9837 - val_loss: 0.3980 - val_accuracy: 0.9400\n",
            "Epoch 99/100\n",
            "29/29 [==============================] - 25s 845ms/step - loss: 0.0368 - accuracy: 0.9870 - val_loss: 0.4423 - val_accuracy: 0.9300\n",
            "Epoch 100/100\n",
            "28/29 [===========================>..] - ETA: 0s - loss: 0.0765 - accuracy: 0.9753"
          ]
        }
      ],
      "source": [
        "history = cnn.fit(train_datagen,epochs=100,validation_data=test_datagen)"
      ]
    },
    {
      "cell_type": "code",
      "execution_count": 13,
      "metadata": {
        "colab": {
          "base_uri": "https://localhost:8080/",
          "height": 499
        },
        "id": "Xcl6ZknEoXZN",
        "outputId": "fc19c201-e476-4a5f-db2e-d286aa5e955b"
      },
      "outputs": [
        {
          "output_type": "display_data",
          "data": {
            "text/plain": [
              "<Figure size 576x576 with 2 Axes>"
            ],
            "image/png": "[encoded data removed]"
          },
          "metadata": {
            "needs_background": "light"
          }
        }
      ],
      "source": [
        "acc = history.history['accuracy']\n",
        "val_acc = history.history['val_accuracy']\n",
        "\n",
        "loss = history.history['loss']\n",
        "val_loss = history.history['val_loss']\n",
        "\n",
        "epochs_range = range(100)\n",
        "\n",
        "plt.figure(figsize=(8, 8))\n",
        "plt.subplot(1, 2, 1)\n",
        "plt.plot(epochs_range, acc, label='Training Accuracy')\n",
        "plt.plot(epochs_range, val_acc, label='Validation Accuracy')\n",
        "plt.legend(loc='lower right')\n",
        "plt.title('Training and Validation Accuracy')\n",
        "\n",
        "plt.subplot(1, 2, 2)\n",
        "plt.plot(epochs_range, loss, label='Training Loss')\n",
        "plt.plot(epochs_range, val_loss, label='Validation Loss')\n",
        "plt.legend(loc='upper right')\n",
        "plt.title('Training and Validation Loss')\n",
        "plt.show()"
      ]
    },
    {
      "cell_type": "code",
      "source": [
        "cnn.save('BirdClassification.h5')"
      ],
      "metadata": {
        "id": "dropuHQPbgra"
      },
      "execution_count": 14,
      "outputs": []
    }
  ],
  "metadata": {
    "colab": {
      "collapsed_sections": [],
      "provenance": [],
      "mount_file_id": "1AhWYsLJt-RKUrNB8PrQA8Kj6Mt95TmEd",
      "authorship_tag": "ABX9TyNsaBQC8tc9qwOCuNSJ+o2/",
      "include_colab_link": true
    },
    "kernelspec": {
      "display_name": "Python 3",
      "name": "python3"
    },
    "language_info": {
      "name": "python"
    },
    "gpuClass": "standard"
  },
  "nbformat": 4,
  "nbformat_minor": 0
}