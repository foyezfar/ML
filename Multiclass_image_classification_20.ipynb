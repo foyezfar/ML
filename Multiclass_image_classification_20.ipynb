{
  "cells": [
    {
      "cell_type": "markdown",
      "metadata": {
        "id": "view-in-github",
        "colab_type": "text"
      },
      "source": [
        "<a href=\"https://colab.research.google.com/github/foyezfar/ML/blob/main/Multiclass_image_classification_20.ipynb\" target=\"_parent\"><img src=\"https://colab.research.google.com/assets/colab-badge.svg\" alt=\"Open In Colab\"/></a>"
      ]
    },
    {
      "cell_type": "code",
      "execution_count": 1,
      "metadata": {
        "id": "MQ9ZtBc7VBFc"
      },
      "outputs": [],
      "source": [
        "import zipfile\n",
        "import os\n",
        "import shutil\n",
        "import glob"
      ]
    },
    {
      "cell_type": "code",
      "execution_count": 2,
      "metadata": {
        "colab": {
          "base_uri": "https://localhost:8080/"
        },
        "id": "w38JecqmVEQj",
        "outputId": "5f6f7b49-aaa1-45c1-9db8-c83c85a9cde5"
      },
      "outputs": [
        {
          "output_type": "stream",
          "name": "stdout",
          "text": [
            "Drive already mounted at /content/drive; to attempt to forcibly remount, call drive.mount(\"/content/drive\", force_remount=True).\n"
          ]
        }
      ],
      "source": [
        "from google.colab import drive\n",
        "drive.mount('/content/drive')"
      ]
    },
    {
      "cell_type": "code",
      "execution_count": 3,
      "metadata": {
        "id": "jmMDvVqxXQ7S"
      },
      "outputs": [],
      "source": [
        "Zip_ref = zipfile.ZipFile(\"/content/drive/MyDrive/Bird_data.zip\",\"r\")\n",
        "Zip_ref.extractall(\"/tmp\")\n",
        "Zip_ref.close()"
      ]
    },
    {
      "cell_type": "code",
      "execution_count": 4,
      "metadata": {
        "id": "gexLmNnIUn9e"
      },
      "outputs": [],
      "source": [
        "base_dir =\"/tmp/train\""
      ]
    },
    {
      "cell_type": "code",
      "execution_count": 5,
      "metadata": {
        "colab": {
          "base_uri": "https://localhost:8080/"
        },
        "id": "zBJC3bvkUzW1",
        "outputId": "5b0bdc2a-555e-4bc6-c202-13af44063ba4"
      },
      "outputs": [
        {
          "output_type": "stream",
          "name": "stdout",
          "text": [
            "['INDIGO BUNTING', 'EURASIAN MAGPIE', 'EGYPTIAN GOOSE', 'RED FODY', 'MYNA', 'CROW', 'SAND MARTIN', 'EMU', 'OSTRICH', 'TAILORBIRD', 'CRANE HAWK', 'PEACOCK', 'WOOD DUCK', 'GOLDEN PIPIT', 'FAIRY PENGUIN', 'WILD TURKEY', 'ROBIN', 'BARN OWL', 'HARPY EAGLE', 'COCKATOO']\n"
          ]
        }
      ],
      "source": [
        "import os\n",
        "print(os.listdir(\"/tmp/train\"))"
      ]
    },
    {
      "cell_type": "code",
      "execution_count": 6,
      "metadata": {
        "id": "3Z0Ph2B2otVN"
      },
      "outputs": [],
      "source": [
        "import numpy as np\n",
        "import cv2\n",
        "import random as rn\n",
        "from tqdm import tqdm\n",
        "import matplotlib.pyplot as plt\n",
        "import tensorflow as tf\n",
        "from tensorflow import keras\n",
        "from tensorflow.python.keras.layers import Dense\n"
      ]
    },
    {
      "cell_type": "code",
      "execution_count": 7,
      "metadata": {
        "colab": {
          "base_uri": "https://localhost:8080/"
        },
        "id": "_n7-NewsXfjz",
        "outputId": "78daf078-2c27-41da-8ee0-43346ddda899"
      },
      "outputs": [
        {
          "output_type": "stream",
          "name": "stdout",
          "text": [
            "Found 2862 images belonging to 20 classes.\n",
            "Found 309 images belonging to 20 classes.\n"
          ]
        }
      ],
      "source": [
        "IMAGE_SIZE=224\n",
        "BATCH_SIZE=32\n",
        "\n",
        "#pre=processing\n",
        "train_datagen=tf.keras.preprocessing.image.ImageDataGenerator(\n",
        "    rescale=1./255,\n",
        "    shear_range=0.2,\n",
        "    zoom_range=0.2,\n",
        "    horizontal_flip=True,\n",
        "    validation_split=0.1\n",
        "    )\n",
        "\n",
        "test_datagen=tf.keras.preprocessing.image.ImageDataGenerator(\n",
        "     rescale=1./255,\n",
        "     validation_split=0.1\n",
        ")\n",
        "\n",
        "train_datagen=train_datagen.flow_from_directory(\n",
        "    base_dir,\n",
        "    target_size=(IMAGE_SIZE,IMAGE_SIZE),\n",
        "    batch_size=BATCH_SIZE,\n",
        "    subset='training'\n",
        ")\n",
        "\n",
        "test_datagen=test_datagen.flow_from_directory(\n",
        "    base_dir,\n",
        "    target_size=(IMAGE_SIZE,IMAGE_SIZE),\n",
        "    batch_size=BATCH_SIZE,\n",
        "    subset='validation'\n",
        ")"
      ]
    },
    {
      "cell_type": "code",
      "execution_count": 8,
      "metadata": {
        "id": "783U4QVEXr9i"
      },
      "outputs": [],
      "source": [
        "cnn=tf.keras.Sequential()\n",
        "cnn.add(tf.keras.layers.Conv2D(filters=64,padding='same',strides=2,kernel_size=3,activation='relu',input_shape=(224,224,3)))\n",
        "cnn.add(tf.keras.layers.MaxPool2D(pool_size=2,strides=2))\n",
        "\n",
        "cnn.add(tf.keras.layers.Conv2D(filters=32,padding='same',strides=2,kernel_size=3,activation='relu'))\n",
        "cnn.add(tf.keras.layers.MaxPool2D(pool_size=2,strides=2))\n",
        "\n",
        "cnn.add(tf.keras.layers.Conv2D(filters=32,padding='same',strides=2,kernel_size=3,activation='relu'))\n",
        "cnn.add(tf.keras.layers.MaxPool2D(pool_size=2))\n",
        "\n",
        "cnn.add(tf.keras.layers.Flatten())\n",
        "cnn.add(tf.keras.layers.Dense(20,activation='softmax'))"
      ]
    },
    {
      "cell_type": "code",
      "source": [
        "cnn.summary()"
      ],
      "metadata": {
        "colab": {
          "base_uri": "https://localhost:8080/"
        },
        "id": "B421NqOoijCJ",
        "outputId": "38af9cfc-6918-4627-d1b8-216a9b8d854d"
      },
      "execution_count": 9,
      "outputs": [
        {
          "output_type": "stream",
          "name": "stdout",
          "text": [
            "Model: \"sequential\"\n",
            "_________________________________________________________________\n",
            " Layer (type)                Output Shape              Param #   \n",
            "=================================================================\n",
            " conv2d (Conv2D)             (None, 112, 112, 64)      1792      \n",
            "                                                                 \n",
            " max_pooling2d (MaxPooling2D  (None, 56, 56, 64)       0         \n",
            " )                                                               \n",
            "                                                                 \n",
            " conv2d_1 (Conv2D)           (None, 28, 28, 32)        18464     \n",
            "                                                                 \n",
            " max_pooling2d_1 (MaxPooling  (None, 14, 14, 32)       0         \n",
            " 2D)                                                             \n",
            "                                                                 \n",
            " conv2d_2 (Conv2D)           (None, 7, 7, 32)          9248      \n",
            "                                                                 \n",
            " max_pooling2d_2 (MaxPooling  (None, 3, 3, 32)         0         \n",
            " 2D)                                                             \n",
            "                                                                 \n",
            " flatten (Flatten)           (None, 288)               0         \n",
            "                                                                 \n",
            " dense (Dense)               (None, 20)                5780      \n",
            "                                                                 \n",
            "=================================================================\n",
            "Total params: 35,284\n",
            "Trainable params: 35,284\n",
            "Non-trainable params: 0\n",
            "_________________________________________________________________\n"
          ]
        }
      ]
    },
    {
      "cell_type": "code",
      "execution_count": 10,
      "metadata": {
        "id": "blhX_9yPXwr6"
      },
      "outputs": [],
      "source": [
        "cnn.compile(optimizer=tf.keras.optimizers.Adam(),loss='categorical_crossentropy',metrics=['accuracy'])"
      ]
    },
    {
      "cell_type": "code",
      "execution_count": 11,
      "metadata": {
        "colab": {
          "base_uri": "https://localhost:8080/"
        },
        "id": "7uEbDK0SjwUf",
        "outputId": "21d94bef-a741-4cd8-f2b7-1cbc6f7d7fb1"
      },
      "outputs": [
        {
          "output_type": "stream",
          "name": "stdout",
          "text": [
            "Epoch 1/100\n",
            "90/90 [==============================] - 39s 342ms/step - loss: 2.8630 - accuracy: 0.1240 - val_loss: 2.4343 - val_accuracy: 0.2718\n",
            "Epoch 2/100\n",
            "90/90 [==============================] - 31s 350ms/step - loss: 2.0875 - accuracy: 0.3599 - val_loss: 1.9402 - val_accuracy: 0.3981\n",
            "Epoch 3/100\n",
            "90/90 [==============================] - 30s 335ms/step - loss: 1.7399 - accuracy: 0.4700 - val_loss: 1.7222 - val_accuracy: 0.4531\n",
            "Epoch 4/100\n",
            "90/90 [==============================] - 30s 334ms/step - loss: 1.5299 - accuracy: 0.5349 - val_loss: 1.5131 - val_accuracy: 0.5405\n",
            "Epoch 5/100\n",
            "90/90 [==============================] - 30s 336ms/step - loss: 1.3913 - accuracy: 0.5825 - val_loss: 1.3897 - val_accuracy: 0.5728\n",
            "Epoch 6/100\n",
            "90/90 [==============================] - 30s 336ms/step - loss: 1.3034 - accuracy: 0.6006 - val_loss: 1.4085 - val_accuracy: 0.5761\n",
            "Epoch 7/100\n",
            "90/90 [==============================] - 30s 339ms/step - loss: 1.2238 - accuracy: 0.6272 - val_loss: 1.2435 - val_accuracy: 0.6408\n",
            "Epoch 8/100\n",
            "90/90 [==============================] - 30s 334ms/step - loss: 1.1611 - accuracy: 0.6562 - val_loss: 1.2795 - val_accuracy: 0.6214\n",
            "Epoch 9/100\n",
            "90/90 [==============================] - 30s 338ms/step - loss: 1.1318 - accuracy: 0.6579 - val_loss: 1.1608 - val_accuracy: 0.6537\n",
            "Epoch 10/100\n",
            "90/90 [==============================] - 31s 339ms/step - loss: 1.0553 - accuracy: 0.6911 - val_loss: 1.2147 - val_accuracy: 0.6699\n",
            "Epoch 11/100\n",
            "90/90 [==============================] - 30s 336ms/step - loss: 1.0169 - accuracy: 0.6904 - val_loss: 1.1283 - val_accuracy: 0.6893\n",
            "Epoch 12/100\n",
            "90/90 [==============================] - 30s 335ms/step - loss: 0.9621 - accuracy: 0.7082 - val_loss: 1.0983 - val_accuracy: 0.6828\n",
            "Epoch 13/100\n",
            "90/90 [==============================] - 30s 336ms/step - loss: 0.9125 - accuracy: 0.7229 - val_loss: 1.0193 - val_accuracy: 0.7282\n",
            "Epoch 14/100\n",
            "90/90 [==============================] - 30s 335ms/step - loss: 0.8755 - accuracy: 0.7345 - val_loss: 1.1023 - val_accuracy: 0.7023\n",
            "Epoch 15/100\n",
            "90/90 [==============================] - 30s 338ms/step - loss: 0.8607 - accuracy: 0.7327 - val_loss: 1.1124 - val_accuracy: 0.6990\n",
            "Epoch 16/100\n",
            "90/90 [==============================] - 30s 336ms/step - loss: 0.8388 - accuracy: 0.7428 - val_loss: 1.1720 - val_accuracy: 0.6861\n",
            "Epoch 17/100\n",
            "90/90 [==============================] - 30s 337ms/step - loss: 0.8290 - accuracy: 0.7547 - val_loss: 1.0835 - val_accuracy: 0.6893\n",
            "Epoch 18/100\n",
            "90/90 [==============================] - 30s 335ms/step - loss: 0.7470 - accuracy: 0.7785 - val_loss: 1.1138 - val_accuracy: 0.6990\n",
            "Epoch 19/100\n",
            "90/90 [==============================] - 30s 335ms/step - loss: 0.7662 - accuracy: 0.7631 - val_loss: 1.0310 - val_accuracy: 0.7184\n",
            "Epoch 20/100\n",
            "90/90 [==============================] - 30s 334ms/step - loss: 0.7234 - accuracy: 0.7753 - val_loss: 1.0865 - val_accuracy: 0.7184\n",
            "Epoch 21/100\n",
            "90/90 [==============================] - 30s 337ms/step - loss: 0.7015 - accuracy: 0.7872 - val_loss: 1.0023 - val_accuracy: 0.7443\n",
            "Epoch 22/100\n",
            "90/90 [==============================] - 30s 333ms/step - loss: 0.6931 - accuracy: 0.7928 - val_loss: 1.0600 - val_accuracy: 0.7314\n",
            "Epoch 23/100\n",
            "90/90 [==============================] - 30s 335ms/step - loss: 0.6748 - accuracy: 0.7987 - val_loss: 1.0139 - val_accuracy: 0.7184\n",
            "Epoch 24/100\n",
            "90/90 [==============================] - 30s 335ms/step - loss: 0.6739 - accuracy: 0.8033 - val_loss: 1.0319 - val_accuracy: 0.7346\n",
            "Epoch 25/100\n",
            "90/90 [==============================] - 30s 334ms/step - loss: 0.6523 - accuracy: 0.8015 - val_loss: 0.9192 - val_accuracy: 0.7443\n",
            "Epoch 26/100\n",
            "90/90 [==============================] - 31s 344ms/step - loss: 0.6597 - accuracy: 0.7973 - val_loss: 1.0347 - val_accuracy: 0.7087\n",
            "Epoch 27/100\n",
            "90/90 [==============================] - 30s 336ms/step - loss: 0.6302 - accuracy: 0.8075 - val_loss: 1.1072 - val_accuracy: 0.7249\n",
            "Epoch 28/100\n",
            "90/90 [==============================] - 30s 335ms/step - loss: 0.6121 - accuracy: 0.8106 - val_loss: 0.9917 - val_accuracy: 0.7346\n",
            "Epoch 29/100\n",
            "90/90 [==============================] - 30s 335ms/step - loss: 0.6064 - accuracy: 0.8183 - val_loss: 1.0764 - val_accuracy: 0.7120\n",
            "Epoch 30/100\n",
            "90/90 [==============================] - 30s 336ms/step - loss: 0.5849 - accuracy: 0.8197 - val_loss: 1.0581 - val_accuracy: 0.7282\n",
            "Epoch 31/100\n",
            "90/90 [==============================] - 30s 338ms/step - loss: 0.5861 - accuracy: 0.8242 - val_loss: 1.0703 - val_accuracy: 0.7152\n",
            "Epoch 32/100\n",
            "90/90 [==============================] - 30s 333ms/step - loss: 0.5444 - accuracy: 0.8337 - val_loss: 1.0639 - val_accuracy: 0.7184\n",
            "Epoch 33/100\n",
            "90/90 [==============================] - 30s 333ms/step - loss: 0.5535 - accuracy: 0.8284 - val_loss: 1.0213 - val_accuracy: 0.7217\n",
            "Epoch 34/100\n",
            "90/90 [==============================] - 30s 336ms/step - loss: 0.5647 - accuracy: 0.8267 - val_loss: 1.0468 - val_accuracy: 0.7152\n",
            "Epoch 35/100\n",
            "90/90 [==============================] - 30s 335ms/step - loss: 0.5546 - accuracy: 0.8246 - val_loss: 0.9824 - val_accuracy: 0.7217\n",
            "Epoch 36/100\n",
            "90/90 [==============================] - 30s 333ms/step - loss: 0.5269 - accuracy: 0.8389 - val_loss: 0.9397 - val_accuracy: 0.7282\n",
            "Epoch 37/100\n",
            "90/90 [==============================] - 30s 334ms/step - loss: 0.5194 - accuracy: 0.8386 - val_loss: 0.9864 - val_accuracy: 0.7379\n",
            "Epoch 38/100\n",
            "90/90 [==============================] - 31s 346ms/step - loss: 0.5230 - accuracy: 0.8396 - val_loss: 0.9648 - val_accuracy: 0.7217\n",
            "Epoch 39/100\n",
            "90/90 [==============================] - 30s 338ms/step - loss: 0.4939 - accuracy: 0.8473 - val_loss: 1.0189 - val_accuracy: 0.7443\n",
            "Epoch 40/100\n",
            "90/90 [==============================] - 30s 333ms/step - loss: 0.4795 - accuracy: 0.8480 - val_loss: 1.0424 - val_accuracy: 0.7379\n",
            "Epoch 41/100\n",
            "90/90 [==============================] - 30s 334ms/step - loss: 0.4791 - accuracy: 0.8512 - val_loss: 0.9427 - val_accuracy: 0.7282\n",
            "Epoch 42/100\n",
            "90/90 [==============================] - 31s 346ms/step - loss: 0.4778 - accuracy: 0.8477 - val_loss: 0.9464 - val_accuracy: 0.7411\n",
            "Epoch 43/100\n",
            "90/90 [==============================] - 30s 334ms/step - loss: 0.4913 - accuracy: 0.8515 - val_loss: 0.9796 - val_accuracy: 0.7314\n",
            "Epoch 44/100\n",
            "90/90 [==============================] - 30s 333ms/step - loss: 0.4712 - accuracy: 0.8539 - val_loss: 0.9853 - val_accuracy: 0.7476\n",
            "Epoch 45/100\n",
            "90/90 [==============================] - 30s 335ms/step - loss: 0.4568 - accuracy: 0.8529 - val_loss: 0.9472 - val_accuracy: 0.7411\n",
            "Epoch 46/100\n",
            "90/90 [==============================] - 30s 333ms/step - loss: 0.4214 - accuracy: 0.8641 - val_loss: 0.9365 - val_accuracy: 0.7379\n",
            "Epoch 47/100\n",
            "90/90 [==============================] - 31s 339ms/step - loss: 0.4255 - accuracy: 0.8644 - val_loss: 0.9276 - val_accuracy: 0.7379\n",
            "Epoch 48/100\n",
            "90/90 [==============================] - 30s 338ms/step - loss: 0.4484 - accuracy: 0.8578 - val_loss: 0.8585 - val_accuracy: 0.7638\n",
            "Epoch 49/100\n",
            "90/90 [==============================] - 31s 340ms/step - loss: 0.4259 - accuracy: 0.8641 - val_loss: 0.9013 - val_accuracy: 0.7638\n",
            "Epoch 50/100\n",
            "90/90 [==============================] - 30s 336ms/step - loss: 0.4316 - accuracy: 0.8651 - val_loss: 1.0757 - val_accuracy: 0.7346\n",
            "Epoch 51/100\n",
            "90/90 [==============================] - 30s 337ms/step - loss: 0.4144 - accuracy: 0.8634 - val_loss: 0.9077 - val_accuracy: 0.7411\n",
            "Epoch 52/100\n",
            "90/90 [==============================] - 30s 334ms/step - loss: 0.4191 - accuracy: 0.8700 - val_loss: 1.0608 - val_accuracy: 0.7314\n",
            "Epoch 53/100\n",
            "90/90 [==============================] - 30s 338ms/step - loss: 0.4183 - accuracy: 0.8704 - val_loss: 0.9188 - val_accuracy: 0.7605\n",
            "Epoch 54/100\n",
            "90/90 [==============================] - 30s 333ms/step - loss: 0.3979 - accuracy: 0.8732 - val_loss: 0.9475 - val_accuracy: 0.7346\n",
            "Epoch 55/100\n",
            "90/90 [==============================] - 30s 336ms/step - loss: 0.3916 - accuracy: 0.8756 - val_loss: 0.8997 - val_accuracy: 0.7476\n",
            "Epoch 56/100\n",
            "90/90 [==============================] - 30s 336ms/step - loss: 0.3936 - accuracy: 0.8714 - val_loss: 1.0036 - val_accuracy: 0.7573\n",
            "Epoch 57/100\n",
            "90/90 [==============================] - 31s 339ms/step - loss: 0.3773 - accuracy: 0.8767 - val_loss: 0.9461 - val_accuracy: 0.7314\n",
            "Epoch 58/100\n",
            "90/90 [==============================] - 31s 340ms/step - loss: 0.3554 - accuracy: 0.8812 - val_loss: 1.1355 - val_accuracy: 0.7217\n",
            "Epoch 59/100\n",
            "90/90 [==============================] - 30s 335ms/step - loss: 0.3765 - accuracy: 0.8749 - val_loss: 0.8412 - val_accuracy: 0.7670\n",
            "Epoch 60/100\n",
            "90/90 [==============================] - 30s 335ms/step - loss: 0.3531 - accuracy: 0.8816 - val_loss: 0.8023 - val_accuracy: 0.7670\n",
            "Epoch 61/100\n",
            "90/90 [==============================] - 30s 335ms/step - loss: 0.3598 - accuracy: 0.8871 - val_loss: 0.9823 - val_accuracy: 0.7508\n",
            "Epoch 62/100\n",
            "90/90 [==============================] - 30s 332ms/step - loss: 0.3412 - accuracy: 0.8857 - val_loss: 1.0732 - val_accuracy: 0.7508\n",
            "Epoch 63/100\n",
            "90/90 [==============================] - 30s 335ms/step - loss: 0.3577 - accuracy: 0.8889 - val_loss: 0.9296 - val_accuracy: 0.7767\n",
            "Epoch 64/100\n",
            "90/90 [==============================] - 30s 333ms/step - loss: 0.3376 - accuracy: 0.8920 - val_loss: 0.8509 - val_accuracy: 0.7735\n",
            "Epoch 65/100\n",
            "90/90 [==============================] - 30s 334ms/step - loss: 0.3359 - accuracy: 0.8917 - val_loss: 1.0338 - val_accuracy: 0.7702\n",
            "Epoch 66/100\n",
            "90/90 [==============================] - 30s 333ms/step - loss: 0.3587 - accuracy: 0.8753 - val_loss: 0.8587 - val_accuracy: 0.7670\n",
            "Epoch 67/100\n",
            "90/90 [==============================] - 30s 331ms/step - loss: 0.3369 - accuracy: 0.8945 - val_loss: 0.8386 - val_accuracy: 0.7670\n",
            "Epoch 68/100\n",
            "90/90 [==============================] - 30s 334ms/step - loss: 0.3287 - accuracy: 0.8969 - val_loss: 1.1392 - val_accuracy: 0.7346\n",
            "Epoch 69/100\n",
            "90/90 [==============================] - 30s 333ms/step - loss: 0.3492 - accuracy: 0.8847 - val_loss: 1.0018 - val_accuracy: 0.7638\n",
            "Epoch 70/100\n",
            "90/90 [==============================] - 30s 333ms/step - loss: 0.3096 - accuracy: 0.8955 - val_loss: 1.0065 - val_accuracy: 0.7573\n",
            "Epoch 71/100\n",
            "90/90 [==============================] - 30s 334ms/step - loss: 0.3383 - accuracy: 0.8941 - val_loss: 0.8158 - val_accuracy: 0.7864\n",
            "Epoch 72/100\n",
            "90/90 [==============================] - 30s 333ms/step - loss: 0.3186 - accuracy: 0.8931 - val_loss: 1.0165 - val_accuracy: 0.7638\n",
            "Epoch 73/100\n",
            "90/90 [==============================] - 30s 334ms/step - loss: 0.3211 - accuracy: 0.8910 - val_loss: 1.0756 - val_accuracy: 0.7443\n",
            "Epoch 74/100\n",
            "90/90 [==============================] - 30s 335ms/step - loss: 0.2905 - accuracy: 0.9085 - val_loss: 1.0590 - val_accuracy: 0.7573\n",
            "Epoch 75/100\n",
            "90/90 [==============================] - 30s 332ms/step - loss: 0.3075 - accuracy: 0.8966 - val_loss: 0.8452 - val_accuracy: 0.7735\n",
            "Epoch 76/100\n",
            "90/90 [==============================] - 30s 333ms/step - loss: 0.3162 - accuracy: 0.8952 - val_loss: 0.8927 - val_accuracy: 0.7994\n",
            "Epoch 77/100\n",
            "90/90 [==============================] - 30s 332ms/step - loss: 0.3037 - accuracy: 0.9025 - val_loss: 1.0914 - val_accuracy: 0.7508\n",
            "Epoch 78/100\n",
            "90/90 [==============================] - 30s 333ms/step - loss: 0.2961 - accuracy: 0.9015 - val_loss: 0.9208 - val_accuracy: 0.7702\n",
            "Epoch 79/100\n",
            "90/90 [==============================] - 30s 335ms/step - loss: 0.2742 - accuracy: 0.9109 - val_loss: 0.9447 - val_accuracy: 0.7832\n",
            "Epoch 80/100\n",
            "90/90 [==============================] - 30s 333ms/step - loss: 0.2852 - accuracy: 0.9078 - val_loss: 1.1361 - val_accuracy: 0.7411\n",
            "Epoch 81/100\n",
            "90/90 [==============================] - 30s 331ms/step - loss: 0.2965 - accuracy: 0.8990 - val_loss: 0.9170 - val_accuracy: 0.7476\n",
            "Epoch 82/100\n",
            "90/90 [==============================] - 30s 333ms/step - loss: 0.2873 - accuracy: 0.9057 - val_loss: 0.9286 - val_accuracy: 0.7735\n",
            "Epoch 83/100\n",
            "90/90 [==============================] - 30s 332ms/step - loss: 0.2842 - accuracy: 0.9043 - val_loss: 0.8936 - val_accuracy: 0.7605\n",
            "Epoch 84/100\n",
            "90/90 [==============================] - 30s 332ms/step - loss: 0.2753 - accuracy: 0.9025 - val_loss: 0.9970 - val_accuracy: 0.7799\n",
            "Epoch 85/100\n",
            "90/90 [==============================] - 30s 333ms/step - loss: 0.2701 - accuracy: 0.9116 - val_loss: 0.9474 - val_accuracy: 0.7605\n",
            "Epoch 86/100\n",
            "90/90 [==============================] - 30s 332ms/step - loss: 0.2837 - accuracy: 0.9032 - val_loss: 0.9262 - val_accuracy: 0.7799\n",
            "Epoch 87/100\n",
            "90/90 [==============================] - 30s 334ms/step - loss: 0.2627 - accuracy: 0.9109 - val_loss: 1.0341 - val_accuracy: 0.7832\n",
            "Epoch 88/100\n",
            "90/90 [==============================] - 30s 334ms/step - loss: 0.2787 - accuracy: 0.9081 - val_loss: 0.9563 - val_accuracy: 0.7832\n",
            "Epoch 89/100\n",
            "90/90 [==============================] - 30s 334ms/step - loss: 0.2461 - accuracy: 0.9158 - val_loss: 1.3779 - val_accuracy: 0.7314\n",
            "Epoch 90/100\n",
            "90/90 [==============================] - 30s 335ms/step - loss: 0.2731 - accuracy: 0.9067 - val_loss: 1.0408 - val_accuracy: 0.7670\n",
            "Epoch 91/100\n",
            "90/90 [==============================] - 30s 333ms/step - loss: 0.2485 - accuracy: 0.9196 - val_loss: 1.0794 - val_accuracy: 0.7540\n",
            "Epoch 92/100\n",
            "90/90 [==============================] - 30s 333ms/step - loss: 0.2436 - accuracy: 0.9200 - val_loss: 1.0591 - val_accuracy: 0.7476\n",
            "Epoch 93/100\n",
            "90/90 [==============================] - 30s 334ms/step - loss: 0.2450 - accuracy: 0.9189 - val_loss: 0.9883 - val_accuracy: 0.7379\n",
            "Epoch 94/100\n",
            "90/90 [==============================] - 30s 333ms/step - loss: 0.2364 - accuracy: 0.9221 - val_loss: 0.9089 - val_accuracy: 0.7896\n",
            "Epoch 95/100\n",
            "90/90 [==============================] - 30s 334ms/step - loss: 0.2500 - accuracy: 0.9158 - val_loss: 0.9077 - val_accuracy: 0.8026\n",
            "Epoch 96/100\n",
            "90/90 [==============================] - 30s 333ms/step - loss: 0.2366 - accuracy: 0.9189 - val_loss: 1.2235 - val_accuracy: 0.7605\n",
            "Epoch 97/100\n",
            "90/90 [==============================] - 30s 334ms/step - loss: 0.2378 - accuracy: 0.9224 - val_loss: 0.8798 - val_accuracy: 0.7864\n",
            "Epoch 98/100\n",
            "90/90 [==============================] - 30s 334ms/step - loss: 0.2773 - accuracy: 0.9067 - val_loss: 0.9501 - val_accuracy: 0.7670\n",
            "Epoch 99/100\n",
            "90/90 [==============================] - 30s 334ms/step - loss: 0.2327 - accuracy: 0.9165 - val_loss: 0.9719 - val_accuracy: 0.7638\n",
            "Epoch 100/100\n",
            "90/90 [==============================] - 30s 331ms/step - loss: 0.2296 - accuracy: 0.9252 - val_loss: 0.9826 - val_accuracy: 0.7832\n"
          ]
        }
      ],
      "source": [
        "history = cnn.fit(train_datagen,epochs=100,validation_data=test_datagen)"
      ]
    },
    {
      "cell_type": "code",
      "execution_count": 12,
      "metadata": {
        "colab": {
          "base_uri": "https://localhost:8080/",
          "height": 499
        },
        "id": "Xcl6ZknEoXZN",
        "outputId": "0b6846e6-a89b-4b7e-9421-0b2a30fc6815"
      },
      "outputs": [
        {
          "output_type": "display_data",
          "data": {
            "text/plain": [
              "<Figure size 576x576 with 2 Axes>"
            ],
            "image/png": "[encoded data removed]"
          },
          "metadata": {
            "needs_background": "light"
          }
        }
      ],
      "source": [
        "acc = history.history['accuracy']\n",
        "val_acc = history.history['val_accuracy']\n",
        "\n",
        "loss = history.history['loss']\n",
        "val_loss = history.history['val_loss']\n",
        "\n",
        "epochs_range = range(100)\n",
        "\n",
        "plt.figure(figsize=(8, 8))\n",
        "plt.subplot(1, 2, 1)\n",
        "plt.plot(epochs_range, acc, label='Training Accuracy')\n",
        "plt.plot(epochs_range, val_acc, label='Validation Accuracy')\n",
        "plt.legend(loc='lower right')\n",
        "plt.title('Training and Validation Accuracy')\n",
        "\n",
        "plt.subplot(1, 2, 2)\n",
        "plt.plot(epochs_range, loss, label='Training Loss')\n",
        "plt.plot(epochs_range, val_loss, label='Validation Loss')\n",
        "plt.legend(loc='upper right')\n",
        "plt.title('Training and Validation Loss')\n",
        "plt.show()"
      ]
    },
    {
      "cell_type": "code",
      "source": [
        "cnn.save('BirdClassification.h5')"
      ],
      "metadata": {
        "id": "dropuHQPbgra"
      },
      "execution_count": 13,
      "outputs": []
    }
  ],
  "metadata": {
    "colab": {
      "collapsed_sections": [],
      "provenance": [],
      "mount_file_id": "1AhWYsLJt-RKUrNB8PrQA8Kj6Mt95TmEd",
      "authorship_tag": "ABX9TyMidtu75j1/nKYHjDNhZJhK",
      "include_colab_link": true
    },
    "kernelspec": {
      "display_name": "Python 3",
      "name": "python3"
    },
    "language_info": {
      "name": "python"
    },
    "gpuClass": "standard",
    "accelerator": "GPU"
  },
  "nbformat": 4,
  "nbformat_minor": 0
}